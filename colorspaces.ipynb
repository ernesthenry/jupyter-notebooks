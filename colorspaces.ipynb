{
 "cells": [
  {
   "cell_type": "code",
   "execution_count": 4,
   "metadata": {},
   "outputs": [
    {
     "data": {
      "text/plain": [
       "<matplotlib.image.AxesImage at 0x110fe1908>"
      ]
     },
     "execution_count": 4,
     "metadata": {},
     "output_type": "execute_result"
    }
   ],
   "source": [
    "import numpy as np\n",
    "import matplotlib.image as mpimg  # for reading in images\n",
    "\n",
    "import matplotlib.pyplot as plt\n",
    "import cv2  # computer vision library\n",
    "\n",
    "%matplotlib inline\n",
    "%matplotlib qt\n",
    "\n",
    "#Read in image\n",
    "image = cv2.imread('images/ernest.jpg')\n",
    "\n",
    "#Make the copy of the original image\n",
    "image_copy = np.copy(image)\n",
    "\n",
    "\n",
    "#Change from color to RGB (from BGR)\n",
    "image_copy = cv2.cvtColor(image, cv2.COLOR_BGR2RGB)\n",
    "\n",
    "#Display the image    \n",
    "plt.imshow(image_copy)"
   ]
  },
  {
   "cell_type": "code",
   "execution_count": null,
   "metadata": {},
   "outputs": [],
   "source": [
    "#RGB CHANNEL\n",
    "\n",
    "r =image_copy[:,:,0]\n",
    "r =image_copy[:,:,1]\n",
    "r =image_copy[:,:,2]"
   ]
  }
 ],
 "metadata": {
  "kernelspec": {
   "display_name": "Python 3",
   "language": "python",
   "name": "python3"
  },
  "language_info": {
   "codemirror_mode": {
    "name": "ipython",
    "version": 3
   },
   "file_extension": ".py",
   "mimetype": "text/x-python",
   "name": "python",
   "nbconvert_exporter": "python",
   "pygments_lexer": "ipython3",
   "version": "3.7.7"
  }
 },
 "nbformat": 4,
 "nbformat_minor": 4
}
